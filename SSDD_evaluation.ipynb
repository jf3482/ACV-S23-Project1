{
 "cells": [
  {
   "cell_type": "markdown",
   "metadata": {
    "id": "QHnVupBBn9eR"
   },
   "source": [
    "Results evaluation.\n",
    "\n",
    "1) Linking google drive\n",
    "\n",
    "2) Loading files (ground truth, results)\n",
    "\n",
    "3) Combining ground truth and results for further analysis within Matlab\n"
   ]
  },
  {
   "cell_type": "code",
   "execution_count": 1,
   "metadata": {
    "executionInfo": {
     "elapsed": 1043,
     "status": "ok",
     "timestamp": 1677703443303,
     "user": {
      "displayName": "Jit Soon Foo",
      "userId": "08801904773871791364"
     },
     "user_tz": 300
    },
    "id": "AbEQwqOKbHbY"
   },
   "outputs": [],
   "source": [
    "import os\n",
    "import pandas as pd\n",
    "import numpy as np"
   ]
  },
  {
   "cell_type": "code",
   "execution_count": 2,
   "metadata": {
    "colab": {
     "base_uri": "https://localhost:8080/"
    },
    "executionInfo": {
     "elapsed": 22695,
     "status": "ok",
     "timestamp": 1677703466208,
     "user": {
      "displayName": "Jit Soon Foo",
      "userId": "08801904773871791364"
     },
     "user_tz": 300
    },
    "id": "wgfIRzllWYmm",
    "outputId": "ea8b5c5c-a8ce-41cc-b762-ca54736425ab"
   },
   "outputs": [
    {
     "name": "stdout",
     "output_type": "stream",
     "text": [
      "Looking in indexes: https://pypi.org/simple, https://us-python.pkg.dev/colab-wheels/public/simple/\n",
      "Requirement already satisfied: pyyaml==5.1 in /usr/local/lib/python3.8/dist-packages (5.1)\n",
      "Looking in indexes: https://pypi.org/simple, https://us-python.pkg.dev/colab-wheels/public/simple/\n",
      "Collecting git+https://github.com/facebookresearch/detectron2.git\n",
      "  Cloning https://github.com/facebookresearch/detectron2.git to /tmp/pip-req-build-03ub67r4\n",
      "  Running command git clone --filter=blob:none --quiet https://github.com/facebookresearch/detectron2.git /tmp/pip-req-build-03ub67r4\n",
      "  Resolved https://github.com/facebookresearch/detectron2.git to commit 38af375052d3ae7331141bc1a22cfa2713b02987\n",
      "  Preparing metadata (setup.py) ... \u001b[?25l\u001b[?25hdone\n",
      "Requirement already satisfied: Pillow>=7.1 in /usr/local/lib/python3.8/dist-packages (from detectron2==0.6) (8.4.0)\n",
      "Requirement already satisfied: matplotlib in /usr/local/lib/python3.8/dist-packages (from detectron2==0.6) (3.5.3)\n",
      "Requirement already satisfied: pycocotools>=2.0.2 in /usr/local/lib/python3.8/dist-packages (from detectron2==0.6) (2.0.6)\n",
      "Requirement already satisfied: termcolor>=1.1 in /usr/local/lib/python3.8/dist-packages (from detectron2==0.6) (2.2.0)\n",
      "Requirement already satisfied: yacs>=0.1.8 in /usr/local/lib/python3.8/dist-packages (from detectron2==0.6) (0.1.8)\n",
      "Requirement already satisfied: tabulate in /usr/local/lib/python3.8/dist-packages (from detectron2==0.6) (0.8.10)\n",
      "Requirement already satisfied: cloudpickle in /usr/local/lib/python3.8/dist-packages (from detectron2==0.6) (2.2.1)\n",
      "Requirement already satisfied: tqdm>4.29.0 in /usr/local/lib/python3.8/dist-packages (from detectron2==0.6) (4.64.1)\n",
      "Requirement already satisfied: tensorboard in /usr/local/lib/python3.8/dist-packages (from detectron2==0.6) (2.11.2)\n",
      "Requirement already satisfied: fvcore<0.1.6,>=0.1.5 in /usr/local/lib/python3.8/dist-packages (from detectron2==0.6) (0.1.5.post20221221)\n",
      "Requirement already satisfied: iopath<0.1.10,>=0.1.7 in /usr/local/lib/python3.8/dist-packages (from detectron2==0.6) (0.1.9)\n",
      "Requirement already satisfied: omegaconf>=2.1 in /usr/local/lib/python3.8/dist-packages (from detectron2==0.6) (2.3.0)\n",
      "Requirement already satisfied: hydra-core>=1.1 in /usr/local/lib/python3.8/dist-packages (from detectron2==0.6) (1.3.2)\n",
      "Requirement already satisfied: black in /usr/local/lib/python3.8/dist-packages (from detectron2==0.6) (23.1.0)\n",
      "Requirement already satisfied: packaging in /usr/local/lib/python3.8/dist-packages (from detectron2==0.6) (23.0)\n",
      "Requirement already satisfied: numpy in /usr/local/lib/python3.8/dist-packages (from fvcore<0.1.6,>=0.1.5->detectron2==0.6) (1.22.4)\n",
      "Requirement already satisfied: pyyaml>=5.1 in /usr/local/lib/python3.8/dist-packages (from fvcore<0.1.6,>=0.1.5->detectron2==0.6) (5.1)\n",
      "Requirement already satisfied: antlr4-python3-runtime==4.9.* in /usr/local/lib/python3.8/dist-packages (from hydra-core>=1.1->detectron2==0.6) (4.9.3)\n",
      "Requirement already satisfied: importlib-resources in /usr/local/lib/python3.8/dist-packages (from hydra-core>=1.1->detectron2==0.6) (5.12.0)\n",
      "Requirement already satisfied: portalocker in /usr/local/lib/python3.8/dist-packages (from iopath<0.1.10,>=0.1.7->detectron2==0.6) (2.7.0)\n",
      "Requirement already satisfied: kiwisolver>=1.0.1 in /usr/local/lib/python3.8/dist-packages (from matplotlib->detectron2==0.6) (1.4.4)\n",
      "Requirement already satisfied: pyparsing>=2.2.1 in /usr/local/lib/python3.8/dist-packages (from matplotlib->detectron2==0.6) (3.0.9)\n",
      "Requirement already satisfied: python-dateutil>=2.7 in /usr/local/lib/python3.8/dist-packages (from matplotlib->detectron2==0.6) (2.8.2)\n",
      "Requirement already satisfied: cycler>=0.10 in /usr/local/lib/python3.8/dist-packages (from matplotlib->detectron2==0.6) (0.11.0)\n",
      "Requirement already satisfied: fonttools>=4.22.0 in /usr/local/lib/python3.8/dist-packages (from matplotlib->detectron2==0.6) (4.38.0)\n",
      "Requirement already satisfied: platformdirs>=2 in /usr/local/lib/python3.8/dist-packages (from black->detectron2==0.6) (3.0.0)\n",
      "Requirement already satisfied: typing-extensions>=3.10.0.0 in /usr/local/lib/python3.8/dist-packages (from black->detectron2==0.6) (4.5.0)\n",
      "Requirement already satisfied: mypy-extensions>=0.4.3 in /usr/local/lib/python3.8/dist-packages (from black->detectron2==0.6) (1.0.0)\n",
      "Requirement already satisfied: tomli>=1.1.0 in /usr/local/lib/python3.8/dist-packages (from black->detectron2==0.6) (2.0.1)\n",
      "Requirement already satisfied: pathspec>=0.9.0 in /usr/local/lib/python3.8/dist-packages (from black->detectron2==0.6) (0.11.0)\n",
      "Requirement already satisfied: click>=8.0.0 in /usr/local/lib/python3.8/dist-packages (from black->detectron2==0.6) (8.1.3)\n",
      "Requirement already satisfied: markdown>=2.6.8 in /usr/local/lib/python3.8/dist-packages (from tensorboard->detectron2==0.6) (3.4.1)\n",
      "Requirement already satisfied: tensorboard-plugin-wit>=1.6.0 in /usr/local/lib/python3.8/dist-packages (from tensorboard->detectron2==0.6) (1.8.1)\n",
      "Requirement already satisfied: requests<3,>=2.21.0 in /usr/local/lib/python3.8/dist-packages (from tensorboard->detectron2==0.6) (2.25.1)\n",
      "Requirement already satisfied: grpcio>=1.24.3 in /usr/local/lib/python3.8/dist-packages (from tensorboard->detectron2==0.6) (1.51.3)\n",
      "Requirement already satisfied: wheel>=0.26 in /usr/local/lib/python3.8/dist-packages (from tensorboard->detectron2==0.6) (0.38.4)\n",
      "Requirement already satisfied: werkzeug>=1.0.1 in /usr/local/lib/python3.8/dist-packages (from tensorboard->detectron2==0.6) (2.2.3)\n",
      "Requirement already satisfied: tensorboard-data-server<0.7.0,>=0.6.0 in /usr/local/lib/python3.8/dist-packages (from tensorboard->detectron2==0.6) (0.6.1)\n",
      "Requirement already satisfied: protobuf<4,>=3.9.2 in /usr/local/lib/python3.8/dist-packages (from tensorboard->detectron2==0.6) (3.19.6)\n",
      "Requirement already satisfied: setuptools>=41.0.0 in /usr/local/lib/python3.8/dist-packages (from tensorboard->detectron2==0.6) (57.4.0)\n",
      "Requirement already satisfied: google-auth-oauthlib<0.5,>=0.4.1 in /usr/local/lib/python3.8/dist-packages (from tensorboard->detectron2==0.6) (0.4.6)\n",
      "Requirement already satisfied: absl-py>=0.4 in /usr/local/lib/python3.8/dist-packages (from tensorboard->detectron2==0.6) (1.4.0)\n",
      "Requirement already satisfied: google-auth<3,>=1.6.3 in /usr/local/lib/python3.8/dist-packages (from tensorboard->detectron2==0.6) (2.16.1)\n",
      "Requirement already satisfied: rsa<5,>=3.1.4 in /usr/local/lib/python3.8/dist-packages (from google-auth<3,>=1.6.3->tensorboard->detectron2==0.6) (4.9)\n",
      "Requirement already satisfied: cachetools<6.0,>=2.0.0 in /usr/local/lib/python3.8/dist-packages (from google-auth<3,>=1.6.3->tensorboard->detectron2==0.6) (5.3.0)\n",
      "Requirement already satisfied: pyasn1-modules>=0.2.1 in /usr/local/lib/python3.8/dist-packages (from google-auth<3,>=1.6.3->tensorboard->detectron2==0.6) (0.2.8)\n",
      "Requirement already satisfied: six>=1.9.0 in /usr/local/lib/python3.8/dist-packages (from google-auth<3,>=1.6.3->tensorboard->detectron2==0.6) (1.15.0)\n",
      "Requirement already satisfied: requests-oauthlib>=0.7.0 in /usr/local/lib/python3.8/dist-packages (from google-auth-oauthlib<0.5,>=0.4.1->tensorboard->detectron2==0.6) (1.3.1)\n",
      "Requirement already satisfied: importlib-metadata>=4.4 in /usr/local/lib/python3.8/dist-packages (from markdown>=2.6.8->tensorboard->detectron2==0.6) (6.0.0)\n",
      "Requirement already satisfied: certifi>=2017.4.17 in /usr/local/lib/python3.8/dist-packages (from requests<3,>=2.21.0->tensorboard->detectron2==0.6) (2022.12.7)\n",
      "Requirement already satisfied: chardet<5,>=3.0.2 in /usr/local/lib/python3.8/dist-packages (from requests<3,>=2.21.0->tensorboard->detectron2==0.6) (4.0.0)\n",
      "Requirement already satisfied: urllib3<1.27,>=1.21.1 in /usr/local/lib/python3.8/dist-packages (from requests<3,>=2.21.0->tensorboard->detectron2==0.6) (1.26.14)\n",
      "Requirement already satisfied: idna<3,>=2.5 in /usr/local/lib/python3.8/dist-packages (from requests<3,>=2.21.0->tensorboard->detectron2==0.6) (2.10)\n",
      "Requirement already satisfied: MarkupSafe>=2.1.1 in /usr/local/lib/python3.8/dist-packages (from werkzeug>=1.0.1->tensorboard->detectron2==0.6) (2.1.2)\n",
      "Requirement already satisfied: zipp>=3.1.0 in /usr/local/lib/python3.8/dist-packages (from importlib-resources->hydra-core>=1.1->detectron2==0.6) (3.15.0)\n",
      "Requirement already satisfied: pyasn1<0.5.0,>=0.4.6 in /usr/local/lib/python3.8/dist-packages (from pyasn1-modules>=0.2.1->google-auth<3,>=1.6.3->tensorboard->detectron2==0.6) (0.4.8)\n",
      "Requirement already satisfied: oauthlib>=3.0.0 in /usr/local/lib/python3.8/dist-packages (from requests-oauthlib>=0.7.0->google-auth-oauthlib<0.5,>=0.4.1->tensorboard->detectron2==0.6) (3.2.2)\n"
     ]
    }
   ],
   "source": [
    "!python -m pip install pyyaml==5.1\n",
    "import sys, os, distutils.core\n",
    "# Note: This is a faster way to install detectron2 in Colab, but it does not include all functionalities.\n",
    "# See https://detectron2.readthedocs.io/tutorials/install.html for full installation instructions\n",
    "#!git clone 'https://github.com/facebookresearch/detectron2'\n",
    "#dist = distutils.core.run_setup(\"./detectron2/setup.py\")\n",
    "#!python -m pip install {' '.join([f\"'{x}'\" for x in dist.install_requires])}\n",
    "#sys.path.insert(0, os.path.abspath('./detectron2'))\n",
    "\n",
    "# Properly install detectron2. (Please do not install twice in both ways)\n",
    "!python -m pip install 'git+https://github.com/facebookresearch/detectron2.git'"
   ]
  },
  {
   "cell_type": "code",
   "execution_count": 3,
   "metadata": {
    "colab": {
     "base_uri": "https://localhost:8080/"
    },
    "executionInfo": {
     "elapsed": 1785,
     "status": "ok",
     "timestamp": 1677703467988,
     "user": {
      "displayName": "Jit Soon Foo",
      "userId": "08801904773871791364"
     },
     "user_tz": 300
    },
    "id": "Y1a7R8K0WiYk",
    "outputId": "e5038760-6920-4870-ada8-b7f443993279"
   },
   "outputs": [
    {
     "name": "stdout",
     "output_type": "stream",
     "text": [
      "nvcc: NVIDIA (R) Cuda compiler driver\n",
      "Copyright (c) 2005-2022 NVIDIA Corporation\n",
      "Built on Wed_Sep_21_10:33:58_PDT_2022\n",
      "Cuda compilation tools, release 11.8, V11.8.89\n",
      "Build cuda_11.8.r11.8/compiler.31833905_0\n",
      "torch:  1.13 ; cuda:  cu116\n"
     ]
    }
   ],
   "source": [
    "import torch, detectron2\n",
    "!nvcc --version\n",
    "TORCH_VERSION = \".\".join(torch.__version__.split(\".\")[:2])\n",
    "CUDA_VERSION = torch.__version__.split(\"+\")[-1]\n",
    "print(\"torch: \", TORCH_VERSION, \"; cuda: \", CUDA_VERSION)"
   ]
  },
  {
   "cell_type": "code",
   "execution_count": 4,
   "metadata": {
    "executionInfo": {
     "elapsed": 658,
     "status": "ok",
     "timestamp": 1677703468644,
     "user": {
      "displayName": "Jit Soon Foo",
      "userId": "08801904773871791364"
     },
     "user_tz": 300
    },
    "id": "VUSacnkPWkjm"
   },
   "outputs": [],
   "source": [
    "#Initialization\n",
    "#For Detectron2\n",
    "import detectron2\n",
    "from detectron2.utils.logger import setup_logger\n",
    "setup_logger()\n",
    "\n",
    "#Import useful Detectron2 functions\n",
    "from detectron2.structures import pairwise_iou, Boxes, BoxMode"
   ]
  },
  {
   "cell_type": "markdown",
   "metadata": {
    "id": "3qr8ZGcUZhvk"
   },
   "source": [
    "## Linking to google drive. Note that we require google-drive-ocamlfuse and authentication when using GCP."
   ]
  },
  {
   "cell_type": "code",
   "execution_count": 5,
   "metadata": {
    "executionInfo": {
     "elapsed": 6,
     "status": "ok",
     "timestamp": 1677703468645,
     "user": {
      "displayName": "Jit Soon Foo",
      "userId": "08801904773871791364"
     },
     "user_tz": 300
    },
    "id": "K1vMiYyRMQgz"
   },
   "outputs": [],
   "source": [
    "##Only need to do this once for installation.\n",
    "#!sudo apt-get install google-drive-ocamlfuse\n",
    "#!sudo add-apt-repository ppa:alessandro-strada/ppa\n",
    "#!sudo apt-get update\n",
    "#!sudo apt-get install google-drive-ocamlfuse"
   ]
  },
  {
   "cell_type": "code",
   "execution_count": 6,
   "metadata": {
    "colab": {
     "base_uri": "https://localhost:8080/"
    },
    "executionInfo": {
     "elapsed": 1717,
     "status": "ok",
     "timestamp": 1677703470357,
     "user": {
      "displayName": "Jit Soon Foo",
      "userId": "08801904773871791364"
     },
     "user_tz": 300
    },
    "id": "DXs78xnQM3k1",
    "outputId": "dd5d14b6-c5c4-4d67-d89e-49e492d8a04e"
   },
   "outputs": [
    {
     "name": "stdout",
     "output_type": "stream",
     "text": [
      "Drive already mounted at /content/gdrive/; to attempt to forcibly remount, call drive.mount(\"/content/gdrive/\", force_remount=True).\n"
     ]
    }
   ],
   "source": [
    "##Not used during GCP mode \n",
    "from google.colab import drive\n",
    "drive.mount('/content/gdrive/')\n",
    "os.chdir('./gdrive/MyDrive/Colab Notebooks/AppliedCV/')"
   ]
  },
  {
   "cell_type": "code",
   "execution_count": 7,
   "metadata": {
    "executionInfo": {
     "elapsed": 9,
     "status": "ok",
     "timestamp": 1677703470358,
     "user": {
      "displayName": "Jit Soon Foo",
      "userId": "08801904773871791364"
     },
     "user_tz": 300
    },
    "id": "w6b_eA0vP-r7"
   },
   "outputs": [],
   "source": [
    "#Authentication (follow instructions and copy code to access google drive)\n",
    "#!google-drive-ocamlfuse -headless -id=553698332080-4ilebkr6tajj9d4on76a6sfjilo8dbob.apps.googleusercontent.com -secret=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"
   ]
  },
  {
   "cell_type": "code",
   "execution_count": 8,
   "metadata": {
    "executionInfo": {
     "elapsed": 10,
     "status": "ok",
     "timestamp": 1677703470359,
     "user": {
      "displayName": "Jit Soon Foo",
      "userId": "08801904773871791364"
     },
     "user_tz": 300
    },
    "id": "mr6pJwpXWY60"
   },
   "outputs": [],
   "source": [
    "#Initializing google drive to a folder\n",
    "#if not os.path.exists(\"./acv\"):\n",
    "#  os.makedirs(\"./acv\")\n",
    "\n",
    "#!google-drive-ocamlfuse acv"
   ]
  },
  {
   "cell_type": "code",
   "execution_count": 9,
   "metadata": {
    "executionInfo": {
     "elapsed": 10,
     "status": "ok",
     "timestamp": 1677703470359,
     "user": {
      "displayName": "Jit Soon Foo",
      "userId": "08801904773871791364"
     },
     "user_tz": 300
    },
    "id": "f38KsOSXY8J9"
   },
   "outputs": [],
   "source": [
    "#Change director to personal folder within the drive\n",
    "#os.chdir('./acv/Colab Notebooks/AppliedCV/')"
   ]
  },
  {
   "cell_type": "markdown",
   "metadata": {
    "id": "t4XdpD0LWOqy"
   },
   "source": [
    "## Loading files"
   ]
  },
  {
   "cell_type": "code",
   "execution_count": 10,
   "metadata": {
    "executionInfo": {
     "elapsed": 10,
     "status": "ok",
     "timestamp": 1677703470360,
     "user": {
      "displayName": "Jit Soon Foo",
      "userId": "08801904773871791364"
     },
     "user_tz": 300
    },
    "id": "KLRy8DlyRF5X"
   },
   "outputs": [],
   "source": [
    "#Initialization\n",
    "img_inshore = './Dataset/SSDD/Images/test_inshore.txt'\n",
    "img_offshore = './Dataset/SSDD/Images/test_offshore.txt'\n",
    "gt = './Dataset/SSDD/labels.csv'\n",
    "res_frcnnR = './ModelOutput/faster_rcnn_R_101_FPN_3x_3_r1/coco_instances_results.json'"
   ]
  },
  {
   "cell_type": "code",
   "execution_count": 11,
   "metadata": {
    "executionInfo": {
     "elapsed": 10,
     "status": "ok",
     "timestamp": 1677703470360,
     "user": {
      "displayName": "Jit Soon Foo",
      "userId": "08801904773871791364"
     },
     "user_tz": 300
    },
    "id": "RyYIqjNNdTMs"
   },
   "outputs": [],
   "source": [
    "#Loading results and ground truth \n",
    "df_inshore = pd.read_csv(img_inshore, header=None, names=['filename'])\n",
    "df_offshore = pd.read_csv(img_offshore, header=None, names=['filename'])\n",
    "df_gt = pd.read_csv(gt)\n",
    "df_frcnnR = pd.read_json(res_frcnnR,dtype={'image_id': 'str'})"
   ]
  },
  {
   "cell_type": "code",
   "execution_count": 12,
   "metadata": {
    "colab": {
     "base_uri": "https://localhost:8080/"
    },
    "executionInfo": {
     "elapsed": 10,
     "status": "ok",
     "timestamp": 1677703470360,
     "user": {
      "displayName": "Jit Soon Foo",
      "userId": "08801904773871791364"
     },
     "user_tz": 300
    },
    "id": "gJx05bDxXPiY",
    "outputId": "3ee5448c-e720-46df-f25a-21d4a39cf6c3"
   },
   "outputs": [
    {
     "name": "stdout",
     "output_type": "stream",
     "text": [
      "      filename  width  height class  xmin  ymin  xmax  ymax  inshore  result  \\\n",
      "0     14_19_11    800     800  ship    14   535    35   557        0       0   \n",
      "1     14_19_11    800     800  ship   406   389   420   402        0       0   \n",
      "2     14_19_11    800     800  ship   392   689   402   699        0       0   \n",
      "3     14_15_23    800     800  ship   683   275   717   313        0       0   \n",
      "4     14_16_13    800     800  ship   177   368   199   407        0       0   \n",
      "...        ...    ...     ...   ...   ...   ...   ...   ...      ...     ...   \n",
      "3040  11_14_28    800     800  ship    58   365    78   394        0       0   \n",
      "3041  11_14_28    800     800  ship   294   363   315   387        0       0   \n",
      "3042  11_14_28    800     800  ship   230   274   256   291        0       0   \n",
      "3043  11_14_28    800     800  ship   339   265   362   303        0       0   \n",
      "3044  11_14_28    800     800  ship   434   106   453   126        0       0   \n",
      "\n",
      "      det_id  \n",
      "0          0  \n",
      "1          0  \n",
      "2          0  \n",
      "3          0  \n",
      "4          0  \n",
      "...      ...  \n",
      "3040       0  \n",
      "3041       0  \n",
      "3042       0  \n",
      "3043       0  \n",
      "3044       0  \n",
      "\n",
      "[2378 rows x 11 columns]\n",
      "2378\n"
     ]
    }
   ],
   "source": [
    "#Cleaning for ground truth\n",
    "ind = np.where(df_gt['filename'].astype(str).str[0:2].astype(int) <= 10)\n",
    "df_gt = df_gt.drop(ind[0])\n",
    "df_gt['filename'] = df_gt['filename'].str[:-4]\n",
    "df_gt['inshore'] = 0\n",
    "df_gt['result'] = 0\n",
    "df_gt['det_id'] = 0\n",
    "print(df_gt)\n",
    "print(len(df_gt))\n",
    "\n",
    "df_frcnnR['inshore'] = 0"
   ]
  },
  {
   "cell_type": "code",
   "execution_count": 13,
   "metadata": {
    "colab": {
     "base_uri": "https://localhost:8080/"
    },
    "executionInfo": {
     "elapsed": 2873,
     "status": "ok",
     "timestamp": 1677703473226,
     "user": {
      "displayName": "Jit Soon Foo",
      "userId": "08801904773871791364"
     },
     "user_tz": 300
    },
    "id": "RLcJLoAvhsaP",
    "outputId": "14fbab5d-e445-40aa-b3a9-e0fa71380336"
   },
   "outputs": [
    {
     "name": "stderr",
     "output_type": "stream",
     "text": [
      "/usr/local/lib/python3.8/dist-packages/pandas/core/indexing.py:1732: SettingWithCopyWarning: \n",
      "A value is trying to be set on a copy of a slice from a DataFrame\n",
      "\n",
      "See the caveats in the documentation: https://pandas.pydata.org/pandas-docs/stable/user_guide/indexing.html#returning-a-view-versus-a-copy\n",
      "  self._setitem_single_block(indexer, value, name)\n"
     ]
    },
    {
     "name": "stdout",
     "output_type": "stream",
     "text": [
      "      filename  width  height class  xmin  ymin  xmax  ymax  inshore  result  \\\n",
      "0     14_19_11    800     800  ship    14   535    35   557        0       0   \n",
      "1     14_19_11    800     800  ship   406   389   420   402        0       0   \n",
      "2     14_19_11    800     800  ship   392   689   402   699        0       0   \n",
      "3     14_15_23    800     800  ship   683   275   717   313        0       0   \n",
      "4     14_16_13    800     800  ship   177   368   199   407        0       0   \n",
      "...        ...    ...     ...   ...   ...   ...   ...   ...      ...     ...   \n",
      "3040  11_14_28    800     800  ship    58   365    78   394        0       0   \n",
      "3041  11_14_28    800     800  ship   294   363   315   387        0       0   \n",
      "3042  11_14_28    800     800  ship   230   274   256   291        0       0   \n",
      "3043  11_14_28    800     800  ship   339   265   362   303        0       0   \n",
      "3044  11_14_28    800     800  ship   434   106   453   126        0       0   \n",
      "\n",
      "      det_id  \n",
      "0          0  \n",
      "1          0  \n",
      "2          0  \n",
      "3          0  \n",
      "4          0  \n",
      "...      ...  \n",
      "3040       0  \n",
      "3041       0  \n",
      "3042       0  \n",
      "3043       0  \n",
      "3044       0  \n",
      "\n",
      "[2378 rows x 11 columns]\n",
      "      image_id  category_id  \\\n",
      "0     11_10_10            0   \n",
      "1     11_10_11            0   \n",
      "2     11_10_13            0   \n",
      "3     11_10_13            0   \n",
      "4     11_10_15            0   \n",
      "...        ...          ...   \n",
      "2170   15_7_24            0   \n",
      "2171    15_8_9            0   \n",
      "2172   15_9_12            0   \n",
      "2173   15_9_15            0   \n",
      "2174    15_9_9            0   \n",
      "\n",
      "                                                   bbox     score  inshore  \n",
      "0     [483.7619323730469, 397.259765625, 16.08984375...  0.884446        0  \n",
      "1     [392.0898132324219, 411.69512939453125, 15.798...  0.924196        0  \n",
      "2     [362.3845520019531, 28.692062377929688, 25.829...  0.958484        0  \n",
      "3     [161.8732452392578, 378.771484375, 15.75973510...  0.927231        0  \n",
      "4     [351.986328125, 304.61260986328125, 23.2286987...  0.936764        0  \n",
      "...                                                 ...       ...      ...  \n",
      "2170  [374.9517822265625, 307.6913757324219, 7.28149...  0.647554        1  \n",
      "2171  [414.095458984375, 502.5772399902344, 18.30242...  0.931564        0  \n",
      "2172  [380.8478088378906, 252.2923126220703, 20.2971...  0.924325        0  \n",
      "2173  [660.5133666992188, 30.971466064453125, 35.711...  0.976731        0  \n",
      "2174  [581.8502197265625, 133.33990478515625, 18.447...  0.783103        0  \n",
      "\n",
      "[2175 rows x 5 columns]\n"
     ]
    }
   ],
   "source": [
    "#Adding 'inshore' header\n",
    "for i in range(len(df_inshore)):  \n",
    "  txt = df_inshore['filename'].iloc[i]\n",
    "  ind = np.where(df_gt['filename'] == txt)\n",
    "  if len(ind) > 0:\n",
    "    df_gt['inshore'].iloc[ind] = 1\n",
    "  \n",
    "  ind = np.where(df_frcnnR['image_id'] == txt)\n",
    "  if len(ind) > 0:\n",
    "    df_frcnnR['inshore'].iloc[ind] = 1\n",
    "\n",
    "print(df_gt)\n",
    "print(df_frcnnR)"
   ]
  },
  {
   "cell_type": "code",
   "execution_count": 14,
   "metadata": {
    "colab": {
     "base_uri": "https://localhost:8080/",
     "height": 423
    },
    "executionInfo": {
     "elapsed": 838,
     "status": "ok",
     "timestamp": 1677703474057,
     "user": {
      "displayName": "Jit Soon Foo",
      "userId": "08801904773871791364"
     },
     "user_tz": 300
    },
    "id": "wY8DFruPk9Z-",
    "outputId": "2e674877-391a-40ed-e6e9-606c9d1d51a1"
   },
   "outputs": [
    {
     "data": {
      "text/html": [
       "\n",
       "  <div id=\"df-fc058a13-cf21-4d37-8aec-ace90516d85e\">\n",
       "    <div class=\"colab-df-container\">\n",
       "      <div>\n",
       "<style scoped>\n",
       "    .dataframe tbody tr th:only-of-type {\n",
       "        vertical-align: middle;\n",
       "    }\n",
       "\n",
       "    .dataframe tbody tr th {\n",
       "        vertical-align: top;\n",
       "    }\n",
       "\n",
       "    .dataframe thead th {\n",
       "        text-align: right;\n",
       "    }\n",
       "</style>\n",
       "<table border=\"1\" class=\"dataframe\">\n",
       "  <thead>\n",
       "    <tr style=\"text-align: right;\">\n",
       "      <th></th>\n",
       "      <th>image_id</th>\n",
       "      <th>category_id</th>\n",
       "      <th>bbox</th>\n",
       "      <th>score</th>\n",
       "      <th>inshore</th>\n",
       "    </tr>\n",
       "  </thead>\n",
       "  <tbody>\n",
       "    <tr>\n",
       "      <th>0</th>\n",
       "      <td>11_10_10</td>\n",
       "      <td>0</td>\n",
       "      <td>[483.7619323730469, 397.259765625, 16.08984375...</td>\n",
       "      <td>0.884446</td>\n",
       "      <td>0</td>\n",
       "    </tr>\n",
       "    <tr>\n",
       "      <th>1</th>\n",
       "      <td>11_10_11</td>\n",
       "      <td>0</td>\n",
       "      <td>[392.0898132324219, 411.69512939453125, 15.798...</td>\n",
       "      <td>0.924196</td>\n",
       "      <td>0</td>\n",
       "    </tr>\n",
       "    <tr>\n",
       "      <th>2</th>\n",
       "      <td>11_10_13</td>\n",
       "      <td>0</td>\n",
       "      <td>[362.3845520019531, 28.692062377929688, 25.829...</td>\n",
       "      <td>0.958484</td>\n",
       "      <td>0</td>\n",
       "    </tr>\n",
       "    <tr>\n",
       "      <th>3</th>\n",
       "      <td>11_10_13</td>\n",
       "      <td>0</td>\n",
       "      <td>[161.8732452392578, 378.771484375, 15.75973510...</td>\n",
       "      <td>0.927231</td>\n",
       "      <td>0</td>\n",
       "    </tr>\n",
       "    <tr>\n",
       "      <th>4</th>\n",
       "      <td>11_10_15</td>\n",
       "      <td>0</td>\n",
       "      <td>[351.986328125, 304.61260986328125, 23.2286987...</td>\n",
       "      <td>0.936764</td>\n",
       "      <td>0</td>\n",
       "    </tr>\n",
       "    <tr>\n",
       "      <th>...</th>\n",
       "      <td>...</td>\n",
       "      <td>...</td>\n",
       "      <td>...</td>\n",
       "      <td>...</td>\n",
       "      <td>...</td>\n",
       "    </tr>\n",
       "    <tr>\n",
       "      <th>2170</th>\n",
       "      <td>15_7_24</td>\n",
       "      <td>0</td>\n",
       "      <td>[374.9517822265625, 307.6913757324219, 7.28149...</td>\n",
       "      <td>0.647554</td>\n",
       "      <td>1</td>\n",
       "    </tr>\n",
       "    <tr>\n",
       "      <th>2171</th>\n",
       "      <td>15_8_9</td>\n",
       "      <td>0</td>\n",
       "      <td>[414.095458984375, 502.5772399902344, 18.30242...</td>\n",
       "      <td>0.931564</td>\n",
       "      <td>0</td>\n",
       "    </tr>\n",
       "    <tr>\n",
       "      <th>2172</th>\n",
       "      <td>15_9_12</td>\n",
       "      <td>0</td>\n",
       "      <td>[380.8478088378906, 252.2923126220703, 20.2971...</td>\n",
       "      <td>0.924325</td>\n",
       "      <td>0</td>\n",
       "    </tr>\n",
       "    <tr>\n",
       "      <th>2173</th>\n",
       "      <td>15_9_15</td>\n",
       "      <td>0</td>\n",
       "      <td>[660.5133666992188, 30.971466064453125, 35.711...</td>\n",
       "      <td>0.976731</td>\n",
       "      <td>0</td>\n",
       "    </tr>\n",
       "    <tr>\n",
       "      <th>2174</th>\n",
       "      <td>15_9_9</td>\n",
       "      <td>0</td>\n",
       "      <td>[581.8502197265625, 133.33990478515625, 18.447...</td>\n",
       "      <td>0.783103</td>\n",
       "      <td>0</td>\n",
       "    </tr>\n",
       "  </tbody>\n",
       "</table>\n",
       "<p>2175 rows × 5 columns</p>\n",
       "</div>\n",
       "      <button class=\"colab-df-convert\" onclick=\"convertToInteractive('df-fc058a13-cf21-4d37-8aec-ace90516d85e')\"\n",
       "              title=\"Convert this dataframe to an interactive table.\"\n",
       "              style=\"display:none;\">\n",
       "        \n",
       "  <svg xmlns=\"http://www.w3.org/2000/svg\" height=\"24px\"viewBox=\"0 0 24 24\"\n",
       "       width=\"24px\">\n",
       "    <path d=\"M0 0h24v24H0V0z\" fill=\"none\"/>\n",
       "    <path d=\"M18.56 5.44l.94 2.06.94-2.06 2.06-.94-2.06-.94-.94-2.06-.94 2.06-2.06.94zm-11 1L8.5 8.5l.94-2.06 2.06-.94-2.06-.94L8.5 2.5l-.94 2.06-2.06.94zm10 10l.94 2.06.94-2.06 2.06-.94-2.06-.94-.94-2.06-.94 2.06-2.06.94z\"/><path d=\"M17.41 7.96l-1.37-1.37c-.4-.4-.92-.59-1.43-.59-.52 0-1.04.2-1.43.59L10.3 9.45l-7.72 7.72c-.78.78-.78 2.05 0 2.83L4 21.41c.39.39.9.59 1.41.59.51 0 1.02-.2 1.41-.59l7.78-7.78 2.81-2.81c.8-.78.8-2.07 0-2.86zM5.41 20L4 18.59l7.72-7.72 1.47 1.35L5.41 20z\"/>\n",
       "  </svg>\n",
       "      </button>\n",
       "      \n",
       "  <style>\n",
       "    .colab-df-container {\n",
       "      display:flex;\n",
       "      flex-wrap:wrap;\n",
       "      gap: 12px;\n",
       "    }\n",
       "\n",
       "    .colab-df-convert {\n",
       "      background-color: #E8F0FE;\n",
       "      border: none;\n",
       "      border-radius: 50%;\n",
       "      cursor: pointer;\n",
       "      display: none;\n",
       "      fill: #1967D2;\n",
       "      height: 32px;\n",
       "      padding: 0 0 0 0;\n",
       "      width: 32px;\n",
       "    }\n",
       "\n",
       "    .colab-df-convert:hover {\n",
       "      background-color: #E2EBFA;\n",
       "      box-shadow: 0px 1px 2px rgba(60, 64, 67, 0.3), 0px 1px 3px 1px rgba(60, 64, 67, 0.15);\n",
       "      fill: #174EA6;\n",
       "    }\n",
       "\n",
       "    [theme=dark] .colab-df-convert {\n",
       "      background-color: #3B4455;\n",
       "      fill: #D2E3FC;\n",
       "    }\n",
       "\n",
       "    [theme=dark] .colab-df-convert:hover {\n",
       "      background-color: #434B5C;\n",
       "      box-shadow: 0px 1px 3px 1px rgba(0, 0, 0, 0.15);\n",
       "      filter: drop-shadow(0px 1px 2px rgba(0, 0, 0, 0.3));\n",
       "      fill: #FFFFFF;\n",
       "    }\n",
       "  </style>\n",
       "\n",
       "      <script>\n",
       "        const buttonEl =\n",
       "          document.querySelector('#df-fc058a13-cf21-4d37-8aec-ace90516d85e button.colab-df-convert');\n",
       "        buttonEl.style.display =\n",
       "          google.colab.kernel.accessAllowed ? 'block' : 'none';\n",
       "\n",
       "        async function convertToInteractive(key) {\n",
       "          const element = document.querySelector('#df-fc058a13-cf21-4d37-8aec-ace90516d85e');\n",
       "          const dataTable =\n",
       "            await google.colab.kernel.invokeFunction('convertToInteractive',\n",
       "                                                     [key], {});\n",
       "          if (!dataTable) return;\n",
       "\n",
       "          const docLinkHtml = 'Like what you see? Visit the ' +\n",
       "            '<a target=\"_blank\" href=https://colab.research.google.com/notebooks/data_table.ipynb>data table notebook</a>'\n",
       "            + ' to learn more about interactive tables.';\n",
       "          element.innerHTML = '';\n",
       "          dataTable['output_type'] = 'display_data';\n",
       "          await google.colab.output.renderOutput(dataTable, element);\n",
       "          const docLink = document.createElement('div');\n",
       "          docLink.innerHTML = docLinkHtml;\n",
       "          element.appendChild(docLink);\n",
       "        }\n",
       "      </script>\n",
       "    </div>\n",
       "  </div>\n",
       "  "
      ],
      "text/plain": [
       "      image_id  category_id  \\\n",
       "0     11_10_10            0   \n",
       "1     11_10_11            0   \n",
       "2     11_10_13            0   \n",
       "3     11_10_13            0   \n",
       "4     11_10_15            0   \n",
       "...        ...          ...   \n",
       "2170   15_7_24            0   \n",
       "2171    15_8_9            0   \n",
       "2172   15_9_12            0   \n",
       "2173   15_9_15            0   \n",
       "2174    15_9_9            0   \n",
       "\n",
       "                                                   bbox     score  inshore  \n",
       "0     [483.7619323730469, 397.259765625, 16.08984375...  0.884446        0  \n",
       "1     [392.0898132324219, 411.69512939453125, 15.798...  0.924196        0  \n",
       "2     [362.3845520019531, 28.692062377929688, 25.829...  0.958484        0  \n",
       "3     [161.8732452392578, 378.771484375, 15.75973510...  0.927231        0  \n",
       "4     [351.986328125, 304.61260986328125, 23.2286987...  0.936764        0  \n",
       "...                                                 ...       ...      ...  \n",
       "2170  [374.9517822265625, 307.6913757324219, 7.28149...  0.647554        1  \n",
       "2171  [414.095458984375, 502.5772399902344, 18.30242...  0.931564        0  \n",
       "2172  [380.8478088378906, 252.2923126220703, 20.2971...  0.924325        0  \n",
       "2173  [660.5133666992188, 30.971466064453125, 35.711...  0.976731        0  \n",
       "2174  [581.8502197265625, 133.33990478515625, 18.447...  0.783103        0  \n",
       "\n",
       "[2175 rows x 5 columns]"
      ]
     },
     "execution_count": 14,
     "metadata": {},
     "output_type": "execute_result"
    }
   ],
   "source": [
    "df_frcnnR"
   ]
  },
  {
   "cell_type": "code",
   "execution_count": 15,
   "metadata": {
    "colab": {
     "base_uri": "https://localhost:8080/"
    },
    "executionInfo": {
     "elapsed": 7,
     "status": "ok",
     "timestamp": 1677703474057,
     "user": {
      "displayName": "Jit Soon Foo",
      "userId": "08801904773871791364"
     },
     "user_tz": 300
    },
    "id": "jnaicUh3rDYK",
    "outputId": "2e980e0e-6159-4bd8-9286-f31ca4e6d170"
   },
   "outputs": [
    {
     "name": "stdout",
     "output_type": "stream",
     "text": [
      "      filename  width  height class  xmin  ymin  xmax  ymax  inshore  result  \\\n",
      "0     14_19_11    800     800  ship    14   535    35   557        0       0   \n",
      "1     14_19_11    800     800  ship   406   389   420   402        0       0   \n",
      "2     14_19_11    800     800  ship   392   689   402   699        0       0   \n",
      "3     14_15_23    800     800  ship   683   275   717   313        0       0   \n",
      "4     14_16_13    800     800  ship   177   368   199   407        0       0   \n",
      "...        ...    ...     ...   ...   ...   ...   ...   ...      ...     ...   \n",
      "3040  11_14_28    800     800  ship    58   365    78   394        0       0   \n",
      "3041  11_14_28    800     800  ship   294   363   315   387        0       0   \n",
      "3042  11_14_28    800     800  ship   230   274   256   291        0       0   \n",
      "3043  11_14_28    800     800  ship   339   265   362   303        0       0   \n",
      "3044  11_14_28    800     800  ship   434   106   453   126        0       0   \n",
      "\n",
      "      det_id                  bbox  iou  \n",
      "0          0    [14, 535, 35, 557]    0  \n",
      "1          0  [406, 389, 420, 402]    0  \n",
      "2          0  [392, 689, 402, 699]    0  \n",
      "3          0  [683, 275, 717, 313]    0  \n",
      "4          0  [177, 368, 199, 407]    0  \n",
      "...      ...                   ...  ...  \n",
      "3040       0    [58, 365, 78, 394]    0  \n",
      "3041       0  [294, 363, 315, 387]    0  \n",
      "3042       0  [230, 274, 256, 291]    0  \n",
      "3043       0  [339, 265, 362, 303]    0  \n",
      "3044       0  [434, 106, 453, 126]    0  \n",
      "\n",
      "[2378 rows x 13 columns]\n"
     ]
    }
   ],
   "source": [
    "#Adding more fields to ground truth\n",
    "df_gt['bbox'] = df_gt[['xmin', 'ymin','xmax','ymax']].values.tolist()\n",
    "\n",
    "df_gt['iou'] = 0 \n",
    "print(df_gt)"
   ]
  },
  {
   "cell_type": "code",
   "execution_count": 16,
   "metadata": {
    "colab": {
     "base_uri": "https://localhost:8080/"
    },
    "executionInfo": {
     "elapsed": 5,
     "status": "ok",
     "timestamp": 1677703474057,
     "user": {
      "displayName": "Jit Soon Foo",
      "userId": "08801904773871791364"
     },
     "user_tz": 300
    },
    "id": "uLrQ5Di6i3jX",
    "outputId": "50d14a6f-adb1-45e0-d40c-37d4b8232432"
   },
   "outputs": [
    {
     "name": "stdout",
     "output_type": "stream",
     "text": [
      "883\n",
      "1495\n"
     ]
    }
   ],
   "source": [
    "#Sanity check\n",
    "print(len(df_gt[df_gt['inshore'] == 1]))\n",
    "print(len(df_gt[df_gt['inshore'] == 0]))"
   ]
  },
  {
   "cell_type": "code",
   "execution_count": 17,
   "metadata": {
    "executionInfo": {
     "elapsed": 2,
     "status": "ok",
     "timestamp": 1677703474058,
     "user": {
      "displayName": "Jit Soon Foo",
      "userId": "08801904773871791364"
     },
     "user_tz": 300
    },
    "id": "_YuqYKtNjdfX"
   },
   "outputs": [],
   "source": [
    "#Initialization of results\n",
    "df_frcnnR['result'] = 0 #0: FA, 1: Detected, 2: Double counted"
   ]
  },
  {
   "cell_type": "markdown",
   "metadata": {
    "colab": {
     "base_uri": "https://localhost:8080/"
    },
    "executionInfo": {
     "elapsed": 203,
     "status": "ok",
     "timestamp": 1677703474259,
     "user": {
      "displayName": "Jit Soon Foo",
      "userId": "08801904773871791364"
     },
     "user_tz": 300
    },
    "id": "9LdGP3Vbe49W",
    "outputId": "10a9af7c-e630-411a-a8ec-6201dd77728c"
   },
   "source": [
    "df_frcnnR.bbox.map(lambda x: x[0]) + df_frcnnR.bbox.map(lambda x: x[2])"
   ]
  },
  {
   "cell_type": "code",
   "execution_count": 19,
   "metadata": {
    "colab": {
     "base_uri": "https://localhost:8080/"
    },
    "executionInfo": {
     "elapsed": 8,
     "status": "ok",
     "timestamp": 1677703474260,
     "user": {
      "displayName": "Jit Soon Foo",
      "userId": "08801904773871791364"
     },
     "user_tz": 300
    },
    "id": "JBUEgOR8edpA",
    "outputId": "648535c5-b644-47df-e305-f186efe8c0f9"
   },
   "outputs": [
    {
     "name": "stdout",
     "output_type": "stream",
     "text": [
      "      image_id  category_id  \\\n",
      "0     11_10_10            0   \n",
      "1     11_10_11            0   \n",
      "2     11_10_13            0   \n",
      "3     11_10_13            0   \n",
      "4     11_10_15            0   \n",
      "...        ...          ...   \n",
      "2170   15_7_24            0   \n",
      "2171    15_8_9            0   \n",
      "2172   15_9_12            0   \n",
      "2173   15_9_15            0   \n",
      "2174    15_9_9            0   \n",
      "\n",
      "                                                   bbox     score  inshore  \\\n",
      "0     [483.7619323730469, 397.259765625, 16.08984375...  0.884446        0   \n",
      "1     [392.0898132324219, 411.69512939453125, 15.798...  0.924196        0   \n",
      "2     [362.3845520019531, 28.692062377929688, 25.829...  0.958484        0   \n",
      "3     [161.8732452392578, 378.771484375, 15.75973510...  0.927231        0   \n",
      "4     [351.986328125, 304.61260986328125, 23.2286987...  0.936764        0   \n",
      "...                                                 ...       ...      ...   \n",
      "2170  [374.9517822265625, 307.6913757324219, 7.28149...  0.647554        1   \n",
      "2171  [414.095458984375, 502.5772399902344, 18.30242...  0.931564        0   \n",
      "2172  [380.8478088378906, 252.2923126220703, 20.2971...  0.924325        0   \n",
      "2173  [660.5133666992188, 30.971466064453125, 35.711...  0.976731        0   \n",
      "2174  [581.8502197265625, 133.33990478515625, 18.447...  0.783103        0   \n",
      "\n",
      "      result        xmin        xmax        ymin        ymax  \\\n",
      "0          0  483.761932  499.851776  397.259766  413.278076   \n",
      "1          0  392.089813  407.888153  411.695129  430.935059   \n",
      "2          0  362.384552  388.214447   28.692062   49.478523   \n",
      "3          0  161.873245  177.632980  378.771484  397.900024   \n",
      "4          0  351.986328  375.215027  304.612610  340.823486   \n",
      "...      ...         ...         ...         ...         ...   \n",
      "2170       0  374.951782  382.233276  307.691376  316.428986   \n",
      "2171       0  414.095459  432.397888  502.577240  520.693176   \n",
      "2172       0  380.847809  401.144989  252.292313  267.453156   \n",
      "2173       0  660.513367  696.224548   30.971466   57.783913   \n",
      "2174       0  581.850220  600.297485  133.339905  147.150421   \n",
      "\n",
      "                                                  bbox2  iou  gt_id  \n",
      "0     [483.7619323730469, 397.259765625, 499.8517761...    0      0  \n",
      "1     [392.0898132324219, 411.69512939453125, 407.88...    0      0  \n",
      "2     [362.3845520019531, 28.692062377929688, 388.21...    0      0  \n",
      "3     [161.8732452392578, 378.771484375, 177.6329803...    0      0  \n",
      "4     [351.986328125, 304.61260986328125, 375.215026...    0      0  \n",
      "...                                                 ...  ...    ...  \n",
      "2170  [374.9517822265625, 307.6913757324219, 382.233...    0      0  \n",
      "2171  [414.095458984375, 502.5772399902344, 432.3978...    0      0  \n",
      "2172  [380.8478088378906, 252.2923126220703, 401.144...    0      0  \n",
      "2173  [660.5133666992188, 30.971466064453125, 696.22...    0      0  \n",
      "2174  [581.8502197265625, 133.33990478515625, 600.29...    0      0  \n",
      "\n",
      "[2175 rows x 13 columns]\n"
     ]
    }
   ],
   "source": [
    "#Adding additional fields for results\n",
    "df_frcnnR['xmin'] = df_frcnnR.bbox.map(lambda x: x[0])\n",
    "df_frcnnR['xmax'] = df_frcnnR.bbox.map(lambda x: x[0]) + df_frcnnR.bbox.map(lambda x: x[2])\n",
    "df_frcnnR['ymin'] = df_frcnnR.bbox.map(lambda x: x[1])\n",
    "df_frcnnR['ymax'] = df_frcnnR.bbox.map(lambda x: x[1]) + df_frcnnR.bbox.map(lambda x: x[3])\n",
    "\n",
    "df_frcnnR['bbox2'] = df_frcnnR[['xmin', 'ymin','xmax','ymax']].values.tolist()\n",
    "\n",
    "df_frcnnR['iou'] = 0\n",
    "df_frcnnR['gt_id'] = 0\n",
    "print(df_frcnnR)"
   ]
  },
  {
   "cell_type": "code",
   "execution_count": 20,
   "metadata": {
    "colab": {
     "base_uri": "https://localhost:8080/",
     "height": 834
    },
    "executionInfo": {
     "elapsed": 5,
     "status": "ok",
     "timestamp": 1677703474260,
     "user": {
      "displayName": "Jit Soon Foo",
      "userId": "08801904773871791364"
     },
     "user_tz": 300
    },
    "id": "_JrJU1OpkamC",
    "outputId": "89075028-1cb5-444e-b0c3-63eab2a19c9c"
   },
   "outputs": [
    {
     "data": {
      "text/html": [
       "\n",
       "  <div id=\"df-578ce283-c8f8-411e-9c36-a2e621526578\">\n",
       "    <div class=\"colab-df-container\">\n",
       "      <div>\n",
       "<style scoped>\n",
       "    .dataframe tbody tr th:only-of-type {\n",
       "        vertical-align: middle;\n",
       "    }\n",
       "\n",
       "    .dataframe tbody tr th {\n",
       "        vertical-align: top;\n",
       "    }\n",
       "\n",
       "    .dataframe thead th {\n",
       "        text-align: right;\n",
       "    }\n",
       "</style>\n",
       "<table border=\"1\" class=\"dataframe\">\n",
       "  <thead>\n",
       "    <tr style=\"text-align: right;\">\n",
       "      <th></th>\n",
       "      <th>image_id</th>\n",
       "      <th>category_id</th>\n",
       "      <th>bbox</th>\n",
       "      <th>score</th>\n",
       "      <th>inshore</th>\n",
       "      <th>result</th>\n",
       "      <th>xmin</th>\n",
       "      <th>xmax</th>\n",
       "      <th>ymin</th>\n",
       "      <th>ymax</th>\n",
       "      <th>bbox2</th>\n",
       "      <th>iou</th>\n",
       "      <th>gt_id</th>\n",
       "    </tr>\n",
       "  </thead>\n",
       "  <tbody>\n",
       "    <tr>\n",
       "      <th>0</th>\n",
       "      <td>11_10_10</td>\n",
       "      <td>0</td>\n",
       "      <td>[483.7619323730469, 397.259765625, 16.08984375...</td>\n",
       "      <td>0.884446</td>\n",
       "      <td>0</td>\n",
       "      <td>0</td>\n",
       "      <td>483.761932</td>\n",
       "      <td>499.851776</td>\n",
       "      <td>397.259766</td>\n",
       "      <td>413.278076</td>\n",
       "      <td>[483.7619323730469, 397.259765625, 499.8517761...</td>\n",
       "      <td>0</td>\n",
       "      <td>0</td>\n",
       "    </tr>\n",
       "    <tr>\n",
       "      <th>1</th>\n",
       "      <td>11_10_11</td>\n",
       "      <td>0</td>\n",
       "      <td>[392.0898132324219, 411.69512939453125, 15.798...</td>\n",
       "      <td>0.924196</td>\n",
       "      <td>0</td>\n",
       "      <td>0</td>\n",
       "      <td>392.089813</td>\n",
       "      <td>407.888153</td>\n",
       "      <td>411.695129</td>\n",
       "      <td>430.935059</td>\n",
       "      <td>[392.0898132324219, 411.69512939453125, 407.88...</td>\n",
       "      <td>0</td>\n",
       "      <td>0</td>\n",
       "    </tr>\n",
       "    <tr>\n",
       "      <th>2</th>\n",
       "      <td>11_10_13</td>\n",
       "      <td>0</td>\n",
       "      <td>[362.3845520019531, 28.692062377929688, 25.829...</td>\n",
       "      <td>0.958484</td>\n",
       "      <td>0</td>\n",
       "      <td>0</td>\n",
       "      <td>362.384552</td>\n",
       "      <td>388.214447</td>\n",
       "      <td>28.692062</td>\n",
       "      <td>49.478523</td>\n",
       "      <td>[362.3845520019531, 28.692062377929688, 388.21...</td>\n",
       "      <td>0</td>\n",
       "      <td>0</td>\n",
       "    </tr>\n",
       "    <tr>\n",
       "      <th>3</th>\n",
       "      <td>11_10_13</td>\n",
       "      <td>0</td>\n",
       "      <td>[161.8732452392578, 378.771484375, 15.75973510...</td>\n",
       "      <td>0.927231</td>\n",
       "      <td>0</td>\n",
       "      <td>0</td>\n",
       "      <td>161.873245</td>\n",
       "      <td>177.632980</td>\n",
       "      <td>378.771484</td>\n",
       "      <td>397.900024</td>\n",
       "      <td>[161.8732452392578, 378.771484375, 177.6329803...</td>\n",
       "      <td>0</td>\n",
       "      <td>0</td>\n",
       "    </tr>\n",
       "    <tr>\n",
       "      <th>4</th>\n",
       "      <td>11_10_15</td>\n",
       "      <td>0</td>\n",
       "      <td>[351.986328125, 304.61260986328125, 23.2286987...</td>\n",
       "      <td>0.936764</td>\n",
       "      <td>0</td>\n",
       "      <td>0</td>\n",
       "      <td>351.986328</td>\n",
       "      <td>375.215027</td>\n",
       "      <td>304.612610</td>\n",
       "      <td>340.823486</td>\n",
       "      <td>[351.986328125, 304.61260986328125, 375.215026...</td>\n",
       "      <td>0</td>\n",
       "      <td>0</td>\n",
       "    </tr>\n",
       "    <tr>\n",
       "      <th>...</th>\n",
       "      <td>...</td>\n",
       "      <td>...</td>\n",
       "      <td>...</td>\n",
       "      <td>...</td>\n",
       "      <td>...</td>\n",
       "      <td>...</td>\n",
       "      <td>...</td>\n",
       "      <td>...</td>\n",
       "      <td>...</td>\n",
       "      <td>...</td>\n",
       "      <td>...</td>\n",
       "      <td>...</td>\n",
       "      <td>...</td>\n",
       "    </tr>\n",
       "    <tr>\n",
       "      <th>2170</th>\n",
       "      <td>15_7_24</td>\n",
       "      <td>0</td>\n",
       "      <td>[374.9517822265625, 307.6913757324219, 7.28149...</td>\n",
       "      <td>0.647554</td>\n",
       "      <td>1</td>\n",
       "      <td>0</td>\n",
       "      <td>374.951782</td>\n",
       "      <td>382.233276</td>\n",
       "      <td>307.691376</td>\n",
       "      <td>316.428986</td>\n",
       "      <td>[374.9517822265625, 307.6913757324219, 382.233...</td>\n",
       "      <td>0</td>\n",
       "      <td>0</td>\n",
       "    </tr>\n",
       "    <tr>\n",
       "      <th>2171</th>\n",
       "      <td>15_8_9</td>\n",
       "      <td>0</td>\n",
       "      <td>[414.095458984375, 502.5772399902344, 18.30242...</td>\n",
       "      <td>0.931564</td>\n",
       "      <td>0</td>\n",
       "      <td>0</td>\n",
       "      <td>414.095459</td>\n",
       "      <td>432.397888</td>\n",
       "      <td>502.577240</td>\n",
       "      <td>520.693176</td>\n",
       "      <td>[414.095458984375, 502.5772399902344, 432.3978...</td>\n",
       "      <td>0</td>\n",
       "      <td>0</td>\n",
       "    </tr>\n",
       "    <tr>\n",
       "      <th>2172</th>\n",
       "      <td>15_9_12</td>\n",
       "      <td>0</td>\n",
       "      <td>[380.8478088378906, 252.2923126220703, 20.2971...</td>\n",
       "      <td>0.924325</td>\n",
       "      <td>0</td>\n",
       "      <td>0</td>\n",
       "      <td>380.847809</td>\n",
       "      <td>401.144989</td>\n",
       "      <td>252.292313</td>\n",
       "      <td>267.453156</td>\n",
       "      <td>[380.8478088378906, 252.2923126220703, 401.144...</td>\n",
       "      <td>0</td>\n",
       "      <td>0</td>\n",
       "    </tr>\n",
       "    <tr>\n",
       "      <th>2173</th>\n",
       "      <td>15_9_15</td>\n",
       "      <td>0</td>\n",
       "      <td>[660.5133666992188, 30.971466064453125, 35.711...</td>\n",
       "      <td>0.976731</td>\n",
       "      <td>0</td>\n",
       "      <td>0</td>\n",
       "      <td>660.513367</td>\n",
       "      <td>696.224548</td>\n",
       "      <td>30.971466</td>\n",
       "      <td>57.783913</td>\n",
       "      <td>[660.5133666992188, 30.971466064453125, 696.22...</td>\n",
       "      <td>0</td>\n",
       "      <td>0</td>\n",
       "    </tr>\n",
       "    <tr>\n",
       "      <th>2174</th>\n",
       "      <td>15_9_9</td>\n",
       "      <td>0</td>\n",
       "      <td>[581.8502197265625, 133.33990478515625, 18.447...</td>\n",
       "      <td>0.783103</td>\n",
       "      <td>0</td>\n",
       "      <td>0</td>\n",
       "      <td>581.850220</td>\n",
       "      <td>600.297485</td>\n",
       "      <td>133.339905</td>\n",
       "      <td>147.150421</td>\n",
       "      <td>[581.8502197265625, 133.33990478515625, 600.29...</td>\n",
       "      <td>0</td>\n",
       "      <td>0</td>\n",
       "    </tr>\n",
       "  </tbody>\n",
       "</table>\n",
       "<p>2175 rows × 13 columns</p>\n",
       "</div>\n",
       "      <button class=\"colab-df-convert\" onclick=\"convertToInteractive('df-578ce283-c8f8-411e-9c36-a2e621526578')\"\n",
       "              title=\"Convert this dataframe to an interactive table.\"\n",
       "              style=\"display:none;\">\n",
       "        \n",
       "  <svg xmlns=\"http://www.w3.org/2000/svg\" height=\"24px\"viewBox=\"0 0 24 24\"\n",
       "       width=\"24px\">\n",
       "    <path d=\"M0 0h24v24H0V0z\" fill=\"none\"/>\n",
       "    <path d=\"M18.56 5.44l.94 2.06.94-2.06 2.06-.94-2.06-.94-.94-2.06-.94 2.06-2.06.94zm-11 1L8.5 8.5l.94-2.06 2.06-.94-2.06-.94L8.5 2.5l-.94 2.06-2.06.94zm10 10l.94 2.06.94-2.06 2.06-.94-2.06-.94-.94-2.06-.94 2.06-2.06.94z\"/><path d=\"M17.41 7.96l-1.37-1.37c-.4-.4-.92-.59-1.43-.59-.52 0-1.04.2-1.43.59L10.3 9.45l-7.72 7.72c-.78.78-.78 2.05 0 2.83L4 21.41c.39.39.9.59 1.41.59.51 0 1.02-.2 1.41-.59l7.78-7.78 2.81-2.81c.8-.78.8-2.07 0-2.86zM5.41 20L4 18.59l7.72-7.72 1.47 1.35L5.41 20z\"/>\n",
       "  </svg>\n",
       "      </button>\n",
       "      \n",
       "  <style>\n",
       "    .colab-df-container {\n",
       "      display:flex;\n",
       "      flex-wrap:wrap;\n",
       "      gap: 12px;\n",
       "    }\n",
       "\n",
       "    .colab-df-convert {\n",
       "      background-color: #E8F0FE;\n",
       "      border: none;\n",
       "      border-radius: 50%;\n",
       "      cursor: pointer;\n",
       "      display: none;\n",
       "      fill: #1967D2;\n",
       "      height: 32px;\n",
       "      padding: 0 0 0 0;\n",
       "      width: 32px;\n",
       "    }\n",
       "\n",
       "    .colab-df-convert:hover {\n",
       "      background-color: #E2EBFA;\n",
       "      box-shadow: 0px 1px 2px rgba(60, 64, 67, 0.3), 0px 1px 3px 1px rgba(60, 64, 67, 0.15);\n",
       "      fill: #174EA6;\n",
       "    }\n",
       "\n",
       "    [theme=dark] .colab-df-convert {\n",
       "      background-color: #3B4455;\n",
       "      fill: #D2E3FC;\n",
       "    }\n",
       "\n",
       "    [theme=dark] .colab-df-convert:hover {\n",
       "      background-color: #434B5C;\n",
       "      box-shadow: 0px 1px 3px 1px rgba(0, 0, 0, 0.15);\n",
       "      filter: drop-shadow(0px 1px 2px rgba(0, 0, 0, 0.3));\n",
       "      fill: #FFFFFF;\n",
       "    }\n",
       "  </style>\n",
       "\n",
       "      <script>\n",
       "        const buttonEl =\n",
       "          document.querySelector('#df-578ce283-c8f8-411e-9c36-a2e621526578 button.colab-df-convert');\n",
       "        buttonEl.style.display =\n",
       "          google.colab.kernel.accessAllowed ? 'block' : 'none';\n",
       "\n",
       "        async function convertToInteractive(key) {\n",
       "          const element = document.querySelector('#df-578ce283-c8f8-411e-9c36-a2e621526578');\n",
       "          const dataTable =\n",
       "            await google.colab.kernel.invokeFunction('convertToInteractive',\n",
       "                                                     [key], {});\n",
       "          if (!dataTable) return;\n",
       "\n",
       "          const docLinkHtml = 'Like what you see? Visit the ' +\n",
       "            '<a target=\"_blank\" href=https://colab.research.google.com/notebooks/data_table.ipynb>data table notebook</a>'\n",
       "            + ' to learn more about interactive tables.';\n",
       "          element.innerHTML = '';\n",
       "          dataTable['output_type'] = 'display_data';\n",
       "          await google.colab.output.renderOutput(dataTable, element);\n",
       "          const docLink = document.createElement('div');\n",
       "          docLink.innerHTML = docLinkHtml;\n",
       "          element.appendChild(docLink);\n",
       "        }\n",
       "      </script>\n",
       "    </div>\n",
       "  </div>\n",
       "  "
      ],
      "text/plain": [
       "      image_id  category_id  \\\n",
       "0     11_10_10            0   \n",
       "1     11_10_11            0   \n",
       "2     11_10_13            0   \n",
       "3     11_10_13            0   \n",
       "4     11_10_15            0   \n",
       "...        ...          ...   \n",
       "2170   15_7_24            0   \n",
       "2171    15_8_9            0   \n",
       "2172   15_9_12            0   \n",
       "2173   15_9_15            0   \n",
       "2174    15_9_9            0   \n",
       "\n",
       "                                                   bbox     score  inshore  \\\n",
       "0     [483.7619323730469, 397.259765625, 16.08984375...  0.884446        0   \n",
       "1     [392.0898132324219, 411.69512939453125, 15.798...  0.924196        0   \n",
       "2     [362.3845520019531, 28.692062377929688, 25.829...  0.958484        0   \n",
       "3     [161.8732452392578, 378.771484375, 15.75973510...  0.927231        0   \n",
       "4     [351.986328125, 304.61260986328125, 23.2286987...  0.936764        0   \n",
       "...                                                 ...       ...      ...   \n",
       "2170  [374.9517822265625, 307.6913757324219, 7.28149...  0.647554        1   \n",
       "2171  [414.095458984375, 502.5772399902344, 18.30242...  0.931564        0   \n",
       "2172  [380.8478088378906, 252.2923126220703, 20.2971...  0.924325        0   \n",
       "2173  [660.5133666992188, 30.971466064453125, 35.711...  0.976731        0   \n",
       "2174  [581.8502197265625, 133.33990478515625, 18.447...  0.783103        0   \n",
       "\n",
       "      result        xmin        xmax        ymin        ymax  \\\n",
       "0          0  483.761932  499.851776  397.259766  413.278076   \n",
       "1          0  392.089813  407.888153  411.695129  430.935059   \n",
       "2          0  362.384552  388.214447   28.692062   49.478523   \n",
       "3          0  161.873245  177.632980  378.771484  397.900024   \n",
       "4          0  351.986328  375.215027  304.612610  340.823486   \n",
       "...      ...         ...         ...         ...         ...   \n",
       "2170       0  374.951782  382.233276  307.691376  316.428986   \n",
       "2171       0  414.095459  432.397888  502.577240  520.693176   \n",
       "2172       0  380.847809  401.144989  252.292313  267.453156   \n",
       "2173       0  660.513367  696.224548   30.971466   57.783913   \n",
       "2174       0  581.850220  600.297485  133.339905  147.150421   \n",
       "\n",
       "                                                  bbox2  iou  gt_id  \n",
       "0     [483.7619323730469, 397.259765625, 499.8517761...    0      0  \n",
       "1     [392.0898132324219, 411.69512939453125, 407.88...    0      0  \n",
       "2     [362.3845520019531, 28.692062377929688, 388.21...    0      0  \n",
       "3     [161.8732452392578, 378.771484375, 177.6329803...    0      0  \n",
       "4     [351.986328125, 304.61260986328125, 375.215026...    0      0  \n",
       "...                                                 ...  ...    ...  \n",
       "2170  [374.9517822265625, 307.6913757324219, 382.233...    0      0  \n",
       "2171  [414.095458984375, 502.5772399902344, 432.3978...    0      0  \n",
       "2172  [380.8478088378906, 252.2923126220703, 401.144...    0      0  \n",
       "2173  [660.5133666992188, 30.971466064453125, 696.22...    0      0  \n",
       "2174  [581.8502197265625, 133.33990478515625, 600.29...    0      0  \n",
       "\n",
       "[2175 rows x 13 columns]"
      ]
     },
     "execution_count": 20,
     "metadata": {},
     "output_type": "execute_result"
    }
   ],
   "source": [
    "df_frcnnR"
   ]
  },
  {
   "cell_type": "markdown",
   "metadata": {
    "id": "MaEqZw1zw4Mx"
   },
   "source": [
    "## Quantitative results generation"
   ]
  },
  {
   "cell_type": "code",
   "execution_count": 22,
   "metadata": {
    "colab": {
     "base_uri": "https://localhost:8080/"
    },
    "executionInfo": {
     "elapsed": 14949,
     "status": "ok",
     "timestamp": 1677703489204,
     "user": {
      "displayName": "Jit Soon Foo",
      "userId": "08801904773871791364"
     },
     "user_tz": 300
    },
    "id": "8z4rFoHIdTR7",
    "outputId": "521161da-9686-421c-c991-60a8affb550a"
   },
   "outputs": [
    {
     "name": "stderr",
     "output_type": "stream",
     "text": [
      "/usr/local/lib/python3.8/dist-packages/pandas/core/indexing.py:1732: SettingWithCopyWarning: \n",
      "A value is trying to be set on a copy of a slice from a DataFrame\n",
      "\n",
      "See the caveats in the documentation: https://pandas.pydata.org/pandas-docs/stable/user_guide/indexing.html#returning-a-view-versus-a-copy\n",
      "  self._setitem_single_block(indexer, value, name)\n"
     ]
    }
   ],
   "source": [
    "#Computing scores and linking gt and results for offshore case.\n",
    "for i in range(len(df_offshore)):\n",
    "  bbox_gt = []\n",
    "  bbox_frcnnR = []\n",
    "  #print(i)\n",
    "  txt = df_offshore['filename'].iloc[i]\n",
    "  ind = np.where(df_gt['filename'] == txt) #Find ground truth in df_gt\n",
    "  #print(txt)\n",
    "  #print(len(ind[0]))\n",
    "  #print(ind[0])\n",
    "  if len(ind[0]) > 0:\n",
    "    bbox_gt = df_gt['bbox'].iloc[ind[0]]\n",
    "    #print(bbox_gt)\n",
    "  ind2 = np.where(df_frcnnR['image_id'] == txt) #Find detections in df_frcnnR\n",
    "  if len(ind2[0]) > 0:\n",
    "    bbox_frcnnR = df_frcnnR['bbox2'].iloc[ind2[0]]\n",
    "    #print(bbox_frcnnR)\n",
    "  \n",
    "  #for j in range(ind): #For each detection\n",
    "  #print(Boxes(bbox_gt.tolist()))\n",
    "  #print(Boxes(bbox_frcnnR.tolist()))\n",
    "  if len(bbox_gt) == 0 or len(bbox_frcnnR) == 0:\n",
    "    continue\n",
    "  overlap = pairwise_iou(Boxes(bbox_gt.tolist()), Boxes(bbox_frcnnR.tolist()))\n",
    "  for j in range(overlap.shape[0]):\n",
    "    #print(j)\n",
    "    arr = overlap[j,:]\n",
    "    #print(arr)\n",
    "    maxI = np.argmax(arr)\n",
    "    if arr[maxI] == 0:\n",
    "      continue\n",
    "    allI = [n for n,x in enumerate(arr) if x>0.001]\n",
    "    if len(allI) == 0:\n",
    "      continue\n",
    "    #print(ind)\n",
    "    #print(arr[ind])  \n",
    "    df_gt['result'].iloc[ind[0][j]] = 1\n",
    "    df_gt['det_id'].iloc[ind[0][j]] = ind2[0][maxI]\n",
    "    df_gt['iou'].iloc[ind[0][j]] = float(arr[maxI]) #Score IOU\n",
    "    df_frcnnR['result'].iloc[ind2[0][maxI]] = 1\n",
    "    df_frcnnR['iou'].iloc[ind2[0][maxI]] = float(arr[maxI]) #Score IOU\n",
    "    df_frcnnR['gt_id'].iloc[ind2[0][maxI]] = ind[0][j]\n",
    "    for k in allI:\n",
    "      if k != maxI:\n",
    "        df_frcnnR['result'].iloc[ind2[0][k]] = 2 #Overlapping\n"
   ]
  },
  {
   "cell_type": "code",
   "execution_count": 24,
   "metadata": {
    "executionInfo": {
     "elapsed": 4758,
     "status": "ok",
     "timestamp": 1677703493951,
     "user": {
      "displayName": "Jit Soon Foo",
      "userId": "08801904773871791364"
     },
     "user_tz": 300
    },
    "id": "mppH_ywNjqN_"
   },
   "outputs": [],
   "source": [
    "#Computing scores and linking gt and results for inshore case.\n",
    "for i in range(len(df_inshore)):\n",
    "  bbox_gt = []\n",
    "  bbox_frcnnR = []\n",
    "  #print(i)\n",
    "  txt = df_inshore['filename'].iloc[i]\n",
    "  ind = np.where(df_gt['filename'] == txt) #Find ground truth in df_gt\n",
    "  #print(txt)\n",
    "  #print(len(ind[0]))\n",
    "  #print(ind[0])\n",
    "  if len(ind[0]) > 0:\n",
    "    bbox_gt = df_gt['bbox'].iloc[ind[0]]\n",
    "    #print(bbox_gt)\n",
    "  ind2 = np.where(df_frcnnR['image_id'] == txt) #Find detections in df_frcnnR\n",
    "  if len(ind2[0]) > 0:\n",
    "    bbox_frcnnR = df_frcnnR['bbox2'].iloc[ind2[0]]\n",
    "    #print(bbox_frcnnR)\n",
    "  \n",
    "  #for j in range(ind): #For each detection\n",
    "  #print(Boxes(bbox_gt.tolist()))\n",
    "  #print(Boxes(bbox_frcnnR.tolist()))\n",
    "  if len(bbox_gt) == 0 or len(bbox_frcnnR) == 0:\n",
    "    continue\n",
    "  overlap = pairwise_iou(Boxes(bbox_gt.tolist()), Boxes(bbox_frcnnR.tolist()))\n",
    "  for j in range(overlap.shape[0]):\n",
    "    #print(j)\n",
    "    arr = overlap[j,:]\n",
    "    #print(arr)\n",
    "    maxI = np.argmax(arr)\n",
    "    if arr[maxI] == 0:\n",
    "      continue\n",
    "    allI = [n for n,x in enumerate(arr) if x>0.001]\n",
    "    if len(allI) == 0:\n",
    "      continue\n",
    "    #print(ind)\n",
    "    #print(arr[ind])  \n",
    "    df_gt['result'].iloc[ind[0][j]] = 1\n",
    "    df_gt['det_id'].iloc[ind[0][j]] = ind2[0][maxI]\n",
    "    df_gt['iou'].iloc[ind[0][j]] = float(arr[maxI]) #Score IOU\n",
    "    df_frcnnR['result'].iloc[ind2[0][maxI]] = 1\n",
    "    df_frcnnR['iou'].iloc[ind2[0][maxI]] = float(arr[maxI]) #Score IOU\n",
    "    df_frcnnR['gt_id'].iloc[ind2[0][maxI]] = ind[0][j]\n",
    "    for k in allI:\n",
    "      if k != maxI:\n",
    "        df_frcnnR['result'].iloc[ind2[0][k]] = 2 #Overlapping\n"
   ]
  },
  {
   "cell_type": "code",
   "execution_count": 26,
   "metadata": {
    "executionInfo": {
     "elapsed": 10,
     "status": "ok",
     "timestamp": 1677703493952,
     "user": {
      "displayName": "Jit Soon Foo",
      "userId": "08801904773871791364"
     },
     "user_tz": 300
    },
    "id": "MX2rPyxYj2LM"
   },
   "outputs": [],
   "source": [
    "#Saving results for further processing in Matlab\n",
    "df_gt.to_csv('./gt_res.csv')\n",
    "df_frcnnR.to_csv('./frcnnR_res.csv')"
   ]
  },
  {
   "cell_type": "code",
   "execution_count": 26,
   "metadata": {
    "executionInfo": {
     "elapsed": 10,
     "status": "ok",
     "timestamp": 1677703493952,
     "user": {
      "displayName": "Jit Soon Foo",
      "userId": "08801904773871791364"
     },
     "user_tz": 300
    },
    "id": "G4DeHyJeqMNq"
   },
   "outputs": [],
   "source": []
  }
 ],
 "metadata": {
  "colab": {
   "provenance": []
  },
  "gpuClass": "standard",
  "kernelspec": {
   "display_name": "Python 3 (ipykernel)",
   "language": "python",
   "name": "python3"
  },
  "language_info": {
   "codemirror_mode": {
    "name": "ipython",
    "version": 3
   },
   "file_extension": ".py",
   "mimetype": "text/x-python",
   "name": "python",
   "nbconvert_exporter": "python",
   "pygments_lexer": "ipython3",
   "version": "3.9.15"
  }
 },
 "nbformat": 4,
 "nbformat_minor": 1
}
